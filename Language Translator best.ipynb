{
 "cells": [
  {
   "cell_type": "code",
   "execution_count": 1,
   "id": "4d51f9ea",
   "metadata": {},
   "outputs": [],
   "source": [
    "#pip install translate"
   ]
  },
  {
   "cell_type": "code",
   "execution_count": 2,
   "id": "bb679d6a",
   "metadata": {},
   "outputs": [],
   "source": [
    "from tkinter import *\n",
    "from translate import Translator"
   ]
  },
  {
   "cell_type": "code",
   "execution_count": 3,
   "id": "e66e1691",
   "metadata": {},
   "outputs": [],
   "source": [
    "Screen = Tk()\n",
    "Screen.title(\"Language Translator\")\n",
    " \n",
    "Input_lang = StringVar()\n",
    "Output_lang = StringVar()\n",
    "Languages = {'Hindi', 'German', 'English', 'French', 'Spanish'}\n",
    "Input_lang.set('English')\n",
    "Output_lang.set('French')"
   ]
  },
  {
   "cell_type": "code",
   "execution_count": 4,
   "id": "3f026661",
   "metadata": {},
   "outputs": [],
   "source": [
    "def Translate():\n",
    "    translator = Translator(from_lang = Input_lang.get(), to_lang = Output_lang.get())\n",
    "    Translation = translator.translate(TextVar.get())\n",
    "    OutputVar.set(Translation)"
   ]
  },
  {
   "cell_type": "code",
   "execution_count": 5,
   "id": "c0c70a87",
   "metadata": {},
   "outputs": [],
   "source": [
    "InputLanguageChoiceMenu = OptionMenu(Screen,Input_lang,*Languages)\n",
    "Label(Screen,text = \"Choose a Language\").grid(row = 0,column = 1)\n",
    "InputLanguageChoiceMenu.grid(row = 1,column = 1)\n",
    " \n",
    "NewLanguageChoiceMenu = OptionMenu(Screen,Output_lang,*Languages)\n",
    "Label(Screen,text = \"Translated Language\").grid(row = 0,column = 2)\n",
    "NewLanguageChoiceMenu.grid(row = 1,column = 2)"
   ]
  },
  {
   "cell_type": "code",
   "execution_count": null,
   "id": "799ac369",
   "metadata": {},
   "outputs": [],
   "source": [
    "Label(Screen,text = \"Enter Text\").grid(row = 2,column = 0)\n",
    "TextVar = StringVar()\n",
    "TextBox = Entry(Screen,textvariable = TextVar).grid(row = 2,column = 1)\n",
    " \n",
    "Label(Screen,text = \"Output Text\").grid(row = 2,column = 2)\n",
    "OutputVar = StringVar()\n",
    "TextBox = Entry(Screen,textvariable = OutputVar).grid(row = 2,column = 3)\n",
    " \n",
    "B = Button(Screen,text = \"Translate\",command = Translate, relief = GROOVE).grid(row = 3,column = 1,columnspan = 3)\n",
    "mainloop()"
   ]
  },
  {
   "cell_type": "code",
   "execution_count": null,
   "id": "450e9a8e",
   "metadata": {},
   "outputs": [],
   "source": []
  },
  {
   "cell_type": "code",
   "execution_count": null,
   "id": "16cb7204",
   "metadata": {},
   "outputs": [],
   "source": []
  }
 ],
 "metadata": {
  "kernelspec": {
   "display_name": "Python 3 (ipykernel)",
   "language": "python",
   "name": "python3"
  },
  "language_info": {
   "codemirror_mode": {
    "name": "ipython",
    "version": 3
   },
   "file_extension": ".py",
   "mimetype": "text/x-python",
   "name": "python",
   "nbconvert_exporter": "python",
   "pygments_lexer": "ipython3",
   "version": "3.11.5"
  }
 },
 "nbformat": 4,
 "nbformat_minor": 5
}
